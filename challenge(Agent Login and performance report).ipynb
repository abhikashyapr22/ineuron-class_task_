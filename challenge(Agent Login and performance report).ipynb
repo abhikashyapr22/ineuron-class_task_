{
 "cells": [
  {
   "cell_type": "markdown",
   "id": "849b0391",
   "metadata": {},
   "source": [
    "# Challenges\n",
    "\n",
    "1. find out their av. rating on weekly basis, keeping in mind two days leave\n",
    "2. total working days for each agent\n",
    "3. total query taken, \n",
    "4. total feedback receved\n",
    "5. agent name who have av rating between 3.5 to 4\n",
    "6. agent name who have rating less than 3.5\n",
    "7. agent name who have rating > 4.5\n",
    "8. how many feedback agent have recieved > 4.5 average\n",
    "9. average weekly response time for each agent \n",
    "10. average weekely resolution time for each agents \n",
    "11. list of all agents name \n",
    "12. percentage of chat on which they have received a feedback \n",
    "13. Total contributation hour for each and every agents weekly basis \n",
    "14. total percentage of active hour for a month \n",
    "\n",
    "sunny.savita@ineuron.ai\n",
    "\n",
    "deadline today : 12am today"
   ]
  },
  {
   "cell_type": "code",
   "execution_count": 111,
   "id": "735d4ea9",
   "metadata": {},
   "outputs": [],
   "source": [
    "import pandas as pd"
   ]
  },
  {
   "cell_type": "code",
   "execution_count": 112,
   "id": "a9328eab",
   "metadata": {},
   "outputs": [],
   "source": [
    "df1 = pd.read_csv('Agent Login Report.csv',skiprows=[0,1], names=['Agent_Name', 'Date', 'Login_Time', 'Logout_Time', 'Duration'])"
   ]
  },
  {
   "cell_type": "code",
   "execution_count": 113,
   "id": "a6f64a9c",
   "metadata": {},
   "outputs": [],
   "source": [
    "df2 = pd.read_csv('Agent Performance Report.csv', skiprows=[0,1], names=['Date', 'Agent_Name', 'Total_Chats', 'Average_Response_Time', 'Average_Resolution_Time', 'Average_Rating', 'Total_Feedback'])"
   ]
  },
  {
   "cell_type": "code",
   "execution_count": 114,
   "id": "69721be9",
   "metadata": {},
   "outputs": [],
   "source": [
    "df1.drop('SL No', inplace = True)"
   ]
  },
  {
   "cell_type": "code",
   "execution_count": 115,
   "id": "6896b80c",
   "metadata": {},
   "outputs": [
    {
     "data": {
      "text/html": [
       "<div>\n",
       "<style scoped>\n",
       "    .dataframe tbody tr th:only-of-type {\n",
       "        vertical-align: middle;\n",
       "    }\n",
       "\n",
       "    .dataframe tbody tr th {\n",
       "        vertical-align: top;\n",
       "    }\n",
       "\n",
       "    .dataframe thead th {\n",
       "        text-align: right;\n",
       "    }\n",
       "</style>\n",
       "<table border=\"1\" class=\"dataframe\">\n",
       "  <thead>\n",
       "    <tr style=\"text-align: right;\">\n",
       "      <th></th>\n",
       "      <th>Agent_Name</th>\n",
       "      <th>Date</th>\n",
       "      <th>Login_Time</th>\n",
       "      <th>Logout_Time</th>\n",
       "      <th>Duration</th>\n",
       "    </tr>\n",
       "  </thead>\n",
       "  <tbody>\n",
       "    <tr>\n",
       "      <th>1</th>\n",
       "      <td>Shivananda Sonwane</td>\n",
       "      <td>30-Jul-22</td>\n",
       "      <td>03:35:29 PM</td>\n",
       "      <td>05:39:39 PM</td>\n",
       "      <td>02:04:10</td>\n",
       "    </tr>\n",
       "    <tr>\n",
       "      <th>2</th>\n",
       "      <td>Khushboo Priya</td>\n",
       "      <td>30-Jul-22</td>\n",
       "      <td>03:06:59 PM</td>\n",
       "      <td>03:07:16 PM</td>\n",
       "      <td>00:00:17</td>\n",
       "    </tr>\n",
       "    <tr>\n",
       "      <th>3</th>\n",
       "      <td>Nandani Gupta</td>\n",
       "      <td>30-Jul-22</td>\n",
       "      <td>03:04:24 PM</td>\n",
       "      <td>05:31:07 PM</td>\n",
       "      <td>02:26:42</td>\n",
       "    </tr>\n",
       "    <tr>\n",
       "      <th>4</th>\n",
       "      <td>Hrisikesh Neogi</td>\n",
       "      <td>30-Jul-22</td>\n",
       "      <td>02:34:29 PM</td>\n",
       "      <td>03:19:35 PM</td>\n",
       "      <td>00:45:06</td>\n",
       "    </tr>\n",
       "    <tr>\n",
       "      <th>5</th>\n",
       "      <td>Mukesh</td>\n",
       "      <td>30-Jul-22</td>\n",
       "      <td>02:03:15 PM</td>\n",
       "      <td>03:11:52 PM</td>\n",
       "      <td>01:08:36</td>\n",
       "    </tr>\n",
       "  </tbody>\n",
       "</table>\n",
       "</div>"
      ],
      "text/plain": [
       "           Agent_Name       Date   Login_Time  Logout_Time  Duration\n",
       "1  Shivananda Sonwane  30-Jul-22  03:35:29 PM  05:39:39 PM  02:04:10\n",
       "2      Khushboo Priya  30-Jul-22  03:06:59 PM  03:07:16 PM  00:00:17\n",
       "3       Nandani Gupta  30-Jul-22  03:04:24 PM  05:31:07 PM  02:26:42\n",
       "4     Hrisikesh Neogi  30-Jul-22  02:34:29 PM  03:19:35 PM  00:45:06\n",
       "5             Mukesh   30-Jul-22  02:03:15 PM  03:11:52 PM  01:08:36"
      ]
     },
     "execution_count": 115,
     "metadata": {},
     "output_type": "execute_result"
    }
   ],
   "source": [
    "df1.head()"
   ]
  },
  {
   "cell_type": "code",
   "execution_count": null,
   "id": "e461c215",
   "metadata": {},
   "outputs": [],
   "source": []
  },
  {
   "cell_type": "code",
   "execution_count": 126,
   "id": "25184b56",
   "metadata": {},
   "outputs": [
    {
     "data": {
      "text/html": [
       "<div>\n",
       "<style scoped>\n",
       "    .dataframe tbody tr th:only-of-type {\n",
       "        vertical-align: middle;\n",
       "    }\n",
       "\n",
       "    .dataframe tbody tr th {\n",
       "        vertical-align: top;\n",
       "    }\n",
       "\n",
       "    .dataframe thead th {\n",
       "        text-align: right;\n",
       "    }\n",
       "</style>\n",
       "<table border=\"1\" class=\"dataframe\">\n",
       "  <thead>\n",
       "    <tr style=\"text-align: right;\">\n",
       "      <th></th>\n",
       "      <th>Date</th>\n",
       "      <th>Agent_Name</th>\n",
       "      <th>Total_Chats</th>\n",
       "      <th>Average_Response_Time</th>\n",
       "      <th>Average_Resolution_Time</th>\n",
       "      <th>Average_Rating</th>\n",
       "      <th>Total_Feedback</th>\n",
       "    </tr>\n",
       "  </thead>\n",
       "  <tbody>\n",
       "    <tr>\n",
       "      <th>1</th>\n",
       "      <td>2022-07-30</td>\n",
       "      <td>Prerna Singh</td>\n",
       "      <td>11</td>\n",
       "      <td>00:00:38</td>\n",
       "      <td>00:04:20</td>\n",
       "      <td>4.11</td>\n",
       "      <td>9</td>\n",
       "    </tr>\n",
       "    <tr>\n",
       "      <th>2</th>\n",
       "      <td>2022-07-30</td>\n",
       "      <td>Nandani Gupta</td>\n",
       "      <td>11</td>\n",
       "      <td>00:01:15</td>\n",
       "      <td>00:28:25</td>\n",
       "      <td>3.14</td>\n",
       "      <td>7</td>\n",
       "    </tr>\n",
       "    <tr>\n",
       "      <th>3</th>\n",
       "      <td>2022-07-30</td>\n",
       "      <td>Ameya Jain</td>\n",
       "      <td>14</td>\n",
       "      <td>00:00:30</td>\n",
       "      <td>00:11:36</td>\n",
       "      <td>4.55</td>\n",
       "      <td>11</td>\n",
       "    </tr>\n",
       "    <tr>\n",
       "      <th>4</th>\n",
       "      <td>2022-07-30</td>\n",
       "      <td>Mahesh Sarade</td>\n",
       "      <td>14</td>\n",
       "      <td>00:01:04</td>\n",
       "      <td>00:15:46</td>\n",
       "      <td>4.71</td>\n",
       "      <td>7</td>\n",
       "    </tr>\n",
       "    <tr>\n",
       "      <th>5</th>\n",
       "      <td>2022-07-30</td>\n",
       "      <td>Swati</td>\n",
       "      <td>14</td>\n",
       "      <td>00:01:11</td>\n",
       "      <td>00:16:33</td>\n",
       "      <td>3.67</td>\n",
       "      <td>6</td>\n",
       "    </tr>\n",
       "  </tbody>\n",
       "</table>\n",
       "</div>"
      ],
      "text/plain": [
       "         Date     Agent_Name  Total_Chats Average_Response_Time  \\\n",
       "1  2022-07-30   Prerna Singh           11              00:00:38   \n",
       "2  2022-07-30  Nandani Gupta           11              00:01:15   \n",
       "3  2022-07-30     Ameya Jain           14              00:00:30   \n",
       "4  2022-07-30  Mahesh Sarade           14              00:01:04   \n",
       "5  2022-07-30         Swati            14              00:01:11   \n",
       "\n",
       "  Average_Resolution_Time  Average_Rating  Total_Feedback  \n",
       "1                00:04:20            4.11               9  \n",
       "2                00:28:25            3.14               7  \n",
       "3                00:11:36            4.55              11  \n",
       "4                00:15:46            4.71               7  \n",
       "5                00:16:33            3.67               6  "
      ]
     },
     "execution_count": 126,
     "metadata": {},
     "output_type": "execute_result"
    }
   ],
   "source": [
    "df2.head()"
   ]
  },
  {
   "cell_type": "code",
   "execution_count": null,
   "id": "182027ef",
   "metadata": {},
   "outputs": [],
   "source": []
  },
  {
   "cell_type": "code",
   "execution_count": 133,
   "id": "6d36360d",
   "metadata": {},
   "outputs": [],
   "source": [
    "df2['Date_'] = pd.to_datetime(df2['Date'])"
   ]
  },
  {
   "cell_type": "code",
   "execution_count": 134,
   "id": "59b6a95f",
   "metadata": {},
   "outputs": [
    {
     "name": "stderr",
     "output_type": "stream",
     "text": [
      "<ipython-input-134-8e5fc9e06710>:1: FutureWarning: Series.dt.weekofyear and Series.dt.week have been deprecated.  Please use Series.dt.isocalendar().week instead.\n",
      "  df2['Week'] = df2['Date_'].dt.week\n"
     ]
    }
   ],
   "source": [
    "df2['Week'] = df2['Date_'].dt.week"
   ]
  },
  {
   "cell_type": "code",
   "execution_count": 136,
   "id": "91f32838",
   "metadata": {},
   "outputs": [],
   "source": [
    "df2['Month'] = df2['Date_'].dt.month"
   ]
  },
  {
   "cell_type": "code",
   "execution_count": 137,
   "id": "6ce76980",
   "metadata": {},
   "outputs": [],
   "source": [
    "df2['Year'] = df2['Date_'].dt.year"
   ]
  },
  {
   "cell_type": "code",
   "execution_count": 138,
   "id": "ed0f9f88",
   "metadata": {},
   "outputs": [],
   "source": [
    "df2['Day'] = df2['Date_'].dt.day"
   ]
  },
  {
   "cell_type": "code",
   "execution_count": 140,
   "id": "2e871188",
   "metadata": {},
   "outputs": [],
   "source": [
    "df2.drop('Date', axis=1, inplace=True)"
   ]
  },
  {
   "cell_type": "code",
   "execution_count": 141,
   "id": "0854a9c5",
   "metadata": {},
   "outputs": [
    {
     "data": {
      "text/html": [
       "<div>\n",
       "<style scoped>\n",
       "    .dataframe tbody tr th:only-of-type {\n",
       "        vertical-align: middle;\n",
       "    }\n",
       "\n",
       "    .dataframe tbody tr th {\n",
       "        vertical-align: top;\n",
       "    }\n",
       "\n",
       "    .dataframe thead th {\n",
       "        text-align: right;\n",
       "    }\n",
       "</style>\n",
       "<table border=\"1\" class=\"dataframe\">\n",
       "  <thead>\n",
       "    <tr style=\"text-align: right;\">\n",
       "      <th></th>\n",
       "      <th>Agent_Name</th>\n",
       "      <th>Total_Chats</th>\n",
       "      <th>Average_Response_Time</th>\n",
       "      <th>Average_Resolution_Time</th>\n",
       "      <th>Average_Rating</th>\n",
       "      <th>Total_Feedback</th>\n",
       "      <th>Date_</th>\n",
       "      <th>Week</th>\n",
       "      <th>Month</th>\n",
       "      <th>Year</th>\n",
       "      <th>Day</th>\n",
       "    </tr>\n",
       "  </thead>\n",
       "  <tbody>\n",
       "    <tr>\n",
       "      <th>1</th>\n",
       "      <td>Prerna Singh</td>\n",
       "      <td>11</td>\n",
       "      <td>00:00:38</td>\n",
       "      <td>00:04:20</td>\n",
       "      <td>4.11</td>\n",
       "      <td>9</td>\n",
       "      <td>2022-07-30</td>\n",
       "      <td>30</td>\n",
       "      <td>7</td>\n",
       "      <td>2022</td>\n",
       "      <td>30</td>\n",
       "    </tr>\n",
       "    <tr>\n",
       "      <th>2</th>\n",
       "      <td>Nandani Gupta</td>\n",
       "      <td>11</td>\n",
       "      <td>00:01:15</td>\n",
       "      <td>00:28:25</td>\n",
       "      <td>3.14</td>\n",
       "      <td>7</td>\n",
       "      <td>2022-07-30</td>\n",
       "      <td>30</td>\n",
       "      <td>7</td>\n",
       "      <td>2022</td>\n",
       "      <td>30</td>\n",
       "    </tr>\n",
       "    <tr>\n",
       "      <th>3</th>\n",
       "      <td>Ameya Jain</td>\n",
       "      <td>14</td>\n",
       "      <td>00:00:30</td>\n",
       "      <td>00:11:36</td>\n",
       "      <td>4.55</td>\n",
       "      <td>11</td>\n",
       "      <td>2022-07-30</td>\n",
       "      <td>30</td>\n",
       "      <td>7</td>\n",
       "      <td>2022</td>\n",
       "      <td>30</td>\n",
       "    </tr>\n",
       "    <tr>\n",
       "      <th>4</th>\n",
       "      <td>Mahesh Sarade</td>\n",
       "      <td>14</td>\n",
       "      <td>00:01:04</td>\n",
       "      <td>00:15:46</td>\n",
       "      <td>4.71</td>\n",
       "      <td>7</td>\n",
       "      <td>2022-07-30</td>\n",
       "      <td>30</td>\n",
       "      <td>7</td>\n",
       "      <td>2022</td>\n",
       "      <td>30</td>\n",
       "    </tr>\n",
       "    <tr>\n",
       "      <th>5</th>\n",
       "      <td>Swati</td>\n",
       "      <td>14</td>\n",
       "      <td>00:01:11</td>\n",
       "      <td>00:16:33</td>\n",
       "      <td>3.67</td>\n",
       "      <td>6</td>\n",
       "      <td>2022-07-30</td>\n",
       "      <td>30</td>\n",
       "      <td>7</td>\n",
       "      <td>2022</td>\n",
       "      <td>30</td>\n",
       "    </tr>\n",
       "  </tbody>\n",
       "</table>\n",
       "</div>"
      ],
      "text/plain": [
       "      Agent_Name  Total_Chats Average_Response_Time Average_Resolution_Time  \\\n",
       "1   Prerna Singh           11              00:00:38                00:04:20   \n",
       "2  Nandani Gupta           11              00:01:15                00:28:25   \n",
       "3     Ameya Jain           14              00:00:30                00:11:36   \n",
       "4  Mahesh Sarade           14              00:01:04                00:15:46   \n",
       "5         Swati            14              00:01:11                00:16:33   \n",
       "\n",
       "   Average_Rating  Total_Feedback      Date_  Week  Month  Year  Day  \n",
       "1            4.11               9 2022-07-30    30      7  2022   30  \n",
       "2            3.14               7 2022-07-30    30      7  2022   30  \n",
       "3            4.55              11 2022-07-30    30      7  2022   30  \n",
       "4            4.71               7 2022-07-30    30      7  2022   30  \n",
       "5            3.67               6 2022-07-30    30      7  2022   30  "
      ]
     },
     "execution_count": 141,
     "metadata": {},
     "output_type": "execute_result"
    }
   ],
   "source": [
    "df2.head()"
   ]
  },
  {
   "cell_type": "code",
   "execution_count": null,
   "id": "4bf5714d",
   "metadata": {},
   "outputs": [],
   "source": []
  },
  {
   "cell_type": "code",
   "execution_count": null,
   "id": "be1bdc3f",
   "metadata": {},
   "outputs": [],
   "source": [
    "# Ans 1- find out their av. rating on weekly basis, keeping in mind two days leave"
   ]
  },
  {
   "cell_type": "code",
   "execution_count": 171,
   "id": "84a27446",
   "metadata": {},
   "outputs": [
    {
     "data": {
      "text/plain": [
       "Agent_Name  Week\n",
       "Abhishek    26      0.000000\n",
       "            27      0.000000\n",
       "            28      0.000000\n",
       "            29      0.000000\n",
       "            30      0.000000\n",
       "                      ...   \n",
       "Zeeshan     26      0.000000\n",
       "            27      1.307143\n",
       "            28      2.948571\n",
       "            29      3.180000\n",
       "            30      2.760000\n",
       "Name: Average_Rating, Length: 350, dtype: float64"
      ]
     },
     "execution_count": 171,
     "metadata": {},
     "output_type": "execute_result"
    }
   ],
   "source": [
    "df2.groupby(['Agent_Name','Week'])['Average_Rating'].mean()"
   ]
  },
  {
   "cell_type": "code",
   "execution_count": null,
   "id": "6b28fcbf",
   "metadata": {},
   "outputs": [],
   "source": []
  },
  {
   "cell_type": "code",
   "execution_count": 168,
   "id": "22769eb3",
   "metadata": {},
   "outputs": [],
   "source": [
    "# Ans 2 - total working days for each agent"
   ]
  },
  {
   "cell_type": "code",
   "execution_count": 172,
   "id": "d6127e53",
   "metadata": {},
   "outputs": [
    {
     "data": {
      "text/plain": [
       "Agent_Name\n",
       "Abhishek         30\n",
       "Aditya           30\n",
       "Aditya Shinde    30\n",
       "Aditya_iot       30\n",
       "Amersh           30\n",
       "                 ..\n",
       "Uday Mishra      30\n",
       "Vasanth P        30\n",
       "Vivek            30\n",
       "Wasim            30\n",
       "Zeeshan          30\n",
       "Name: Day, Length: 70, dtype: int64"
      ]
     },
     "execution_count": 172,
     "metadata": {},
     "output_type": "execute_result"
    }
   ],
   "source": [
    "df2.groupby('Agent_Name')['Day'].count()"
   ]
  },
  {
   "cell_type": "code",
   "execution_count": null,
   "id": "6e63fe80",
   "metadata": {},
   "outputs": [],
   "source": []
  },
  {
   "cell_type": "code",
   "execution_count": 173,
   "id": "5d9cedb6",
   "metadata": {},
   "outputs": [
    {
     "data": {
      "text/plain": [
       "array([30, 29, 28, 27, 26, 25, 24, 23, 22, 21, 20, 19, 18, 17, 16, 15, 14,\n",
       "       13, 12, 11, 10,  9,  8,  7,  6,  5,  4,  3,  2,  1], dtype=int64)"
      ]
     },
     "execution_count": 173,
     "metadata": {},
     "output_type": "execute_result"
    }
   ],
   "source": [
    "df2['Day'].unique()"
   ]
  },
  {
   "cell_type": "code",
   "execution_count": null,
   "id": "0da86d89",
   "metadata": {},
   "outputs": [],
   "source": []
  },
  {
   "cell_type": "code",
   "execution_count": 174,
   "id": "27dc9c8e",
   "metadata": {},
   "outputs": [],
   "source": [
    "# Ans 3 - total query taken"
   ]
  },
  {
   "cell_type": "code",
   "execution_count": 175,
   "id": "7b2e9e09",
   "metadata": {},
   "outputs": [
    {
     "data": {
      "text/plain": [
       "Agent_Name\n",
       "Abhishek           0\n",
       "Aditya             0\n",
       "Aditya Shinde    277\n",
       "Aditya_iot       231\n",
       "Amersh             0\n",
       "                ... \n",
       "Uday Mishra        0\n",
       "Vasanth P          0\n",
       "Vivek             44\n",
       "Wasim            433\n",
       "Zeeshan          542\n",
       "Name: Total_Chats, Length: 70, dtype: int64"
      ]
     },
     "execution_count": 175,
     "metadata": {},
     "output_type": "execute_result"
    }
   ],
   "source": [
    "df2.groupby('Agent_Name')['Total_Chats'].sum()"
   ]
  },
  {
   "cell_type": "code",
   "execution_count": null,
   "id": "6e3c26ee",
   "metadata": {},
   "outputs": [],
   "source": []
  },
  {
   "cell_type": "code",
   "execution_count": 176,
   "id": "4602a400",
   "metadata": {},
   "outputs": [],
   "source": [
    "# Ans 4 - total feedback receved"
   ]
  },
  {
   "cell_type": "code",
   "execution_count": 177,
   "id": "f2d3b5e4",
   "metadata": {},
   "outputs": [
    {
     "data": {
      "text/plain": [
       "Agent_Name\n",
       "Abhishek           0\n",
       "Aditya             0\n",
       "Aditya Shinde    153\n",
       "Aditya_iot       131\n",
       "Amersh             0\n",
       "                ... \n",
       "Uday Mishra        0\n",
       "Vasanth P          0\n",
       "Vivek             20\n",
       "Wasim            284\n",
       "Zeeshan          335\n",
       "Name: Total_Feedback, Length: 70, dtype: int64"
      ]
     },
     "execution_count": 177,
     "metadata": {},
     "output_type": "execute_result"
    }
   ],
   "source": [
    "df2.groupby('Agent_Name')['Total_Feedback'].sum()"
   ]
  },
  {
   "cell_type": "code",
   "execution_count": null,
   "id": "8f139c15",
   "metadata": {},
   "outputs": [],
   "source": []
  },
  {
   "cell_type": "code",
   "execution_count": null,
   "id": "0742768e",
   "metadata": {},
   "outputs": [],
   "source": [
    "# Ans 5 - agent name who have av rating between 3.5 to 4"
   ]
  },
  {
   "cell_type": "code",
   "execution_count": 190,
   "id": "8f3a39e3",
   "metadata": {},
   "outputs": [],
   "source": [
    "df3 = pd.DataFrame(df2.groupby('Agent_Name')['Average_Rating'].mean(), columns=['Agent', 'Average_Rating']).reset_index(drop=True)"
   ]
  },
  {
   "cell_type": "code",
   "execution_count": 192,
   "id": "8b79f5ba",
   "metadata": {},
   "outputs": [],
   "source": [
    "df3['Agent'] = df2.groupby('Agent_Name')['Average_Rating'].mean().index"
   ]
  },
  {
   "cell_type": "code",
   "execution_count": 193,
   "id": "9834d1bf",
   "metadata": {},
   "outputs": [
    {
     "data": {
      "text/html": [
       "<div>\n",
       "<style scoped>\n",
       "    .dataframe tbody tr th:only-of-type {\n",
       "        vertical-align: middle;\n",
       "    }\n",
       "\n",
       "    .dataframe tbody tr th {\n",
       "        vertical-align: top;\n",
       "    }\n",
       "\n",
       "    .dataframe thead th {\n",
       "        text-align: right;\n",
       "    }\n",
       "</style>\n",
       "<table border=\"1\" class=\"dataframe\">\n",
       "  <thead>\n",
       "    <tr style=\"text-align: right;\">\n",
       "      <th></th>\n",
       "      <th>Agent</th>\n",
       "      <th>Average_Rating</th>\n",
       "    </tr>\n",
       "  </thead>\n",
       "  <tbody>\n",
       "    <tr>\n",
       "      <th>0</th>\n",
       "      <td>Abhishek</td>\n",
       "      <td>0.000000</td>\n",
       "    </tr>\n",
       "    <tr>\n",
       "      <th>1</th>\n",
       "      <td>Aditya</td>\n",
       "      <td>0.000000</td>\n",
       "    </tr>\n",
       "    <tr>\n",
       "      <th>2</th>\n",
       "      <td>Aditya Shinde</td>\n",
       "      <td>1.800333</td>\n",
       "    </tr>\n",
       "    <tr>\n",
       "      <th>3</th>\n",
       "      <td>Aditya_iot</td>\n",
       "      <td>2.345333</td>\n",
       "    </tr>\n",
       "    <tr>\n",
       "      <th>4</th>\n",
       "      <td>Amersh</td>\n",
       "      <td>0.000000</td>\n",
       "    </tr>\n",
       "    <tr>\n",
       "      <th>...</th>\n",
       "      <td>...</td>\n",
       "      <td>...</td>\n",
       "    </tr>\n",
       "    <tr>\n",
       "      <th>65</th>\n",
       "      <td>Uday Mishra</td>\n",
       "      <td>0.000000</td>\n",
       "    </tr>\n",
       "    <tr>\n",
       "      <th>66</th>\n",
       "      <td>Vasanth P</td>\n",
       "      <td>0.000000</td>\n",
       "    </tr>\n",
       "    <tr>\n",
       "      <th>67</th>\n",
       "      <td>Vivek</td>\n",
       "      <td>0.500667</td>\n",
       "    </tr>\n",
       "    <tr>\n",
       "      <th>68</th>\n",
       "      <td>Wasim</td>\n",
       "      <td>2.400000</td>\n",
       "    </tr>\n",
       "    <tr>\n",
       "      <th>69</th>\n",
       "      <td>Zeeshan</td>\n",
       "      <td>2.287000</td>\n",
       "    </tr>\n",
       "  </tbody>\n",
       "</table>\n",
       "<p>70 rows × 2 columns</p>\n",
       "</div>"
      ],
      "text/plain": [
       "            Agent  Average_Rating\n",
       "0       Abhishek         0.000000\n",
       "1         Aditya         0.000000\n",
       "2   Aditya Shinde        1.800333\n",
       "3     Aditya_iot         2.345333\n",
       "4         Amersh         0.000000\n",
       "..            ...             ...\n",
       "65    Uday Mishra        0.000000\n",
       "66      Vasanth P        0.000000\n",
       "67         Vivek         0.500667\n",
       "68         Wasim         2.400000\n",
       "69       Zeeshan         2.287000\n",
       "\n",
       "[70 rows x 2 columns]"
      ]
     },
     "execution_count": 193,
     "metadata": {},
     "output_type": "execute_result"
    }
   ],
   "source": [
    "df3"
   ]
  },
  {
   "cell_type": "code",
   "execution_count": null,
   "id": "c80ac613",
   "metadata": {},
   "outputs": [],
   "source": []
  },
  {
   "cell_type": "code",
   "execution_count": 200,
   "id": "c7610421",
   "metadata": {},
   "outputs": [
    {
     "data": {
      "text/html": [
       "<div>\n",
       "<style scoped>\n",
       "    .dataframe tbody tr th:only-of-type {\n",
       "        vertical-align: middle;\n",
       "    }\n",
       "\n",
       "    .dataframe tbody tr th {\n",
       "        vertical-align: top;\n",
       "    }\n",
       "\n",
       "    .dataframe thead th {\n",
       "        text-align: right;\n",
       "    }\n",
       "</style>\n",
       "<table border=\"1\" class=\"dataframe\">\n",
       "  <thead>\n",
       "    <tr style=\"text-align: right;\">\n",
       "      <th></th>\n",
       "      <th>Agent</th>\n",
       "      <th>Average_Rating</th>\n",
       "    </tr>\n",
       "  </thead>\n",
       "  <tbody>\n",
       "    <tr>\n",
       "      <th>15</th>\n",
       "      <td>Boktiar Ahmed Bappy</td>\n",
       "      <td>3.568000</td>\n",
       "    </tr>\n",
       "    <tr>\n",
       "      <th>24</th>\n",
       "      <td>Ishawant Kumar</td>\n",
       "      <td>3.543333</td>\n",
       "    </tr>\n",
       "    <tr>\n",
       "      <th>28</th>\n",
       "      <td>Khushboo Priya</td>\n",
       "      <td>3.703667</td>\n",
       "    </tr>\n",
       "    <tr>\n",
       "      <th>34</th>\n",
       "      <td>Manjunatha A</td>\n",
       "      <td>3.594667</td>\n",
       "    </tr>\n",
       "  </tbody>\n",
       "</table>\n",
       "</div>"
      ],
      "text/plain": [
       "                  Agent  Average_Rating\n",
       "15  Boktiar Ahmed Bappy        3.568000\n",
       "24       Ishawant Kumar        3.543333\n",
       "28       Khushboo Priya        3.703667\n",
       "34         Manjunatha A        3.594667"
      ]
     },
     "execution_count": 200,
     "metadata": {},
     "output_type": "execute_result"
    }
   ],
   "source": [
    "df3[(df3['Average_Rating'] > 3.5) & (df3['Average_Rating'] < 4)]"
   ]
  },
  {
   "cell_type": "code",
   "execution_count": null,
   "id": "af24943b",
   "metadata": {},
   "outputs": [],
   "source": []
  },
  {
   "cell_type": "code",
   "execution_count": null,
   "id": "29a79b01",
   "metadata": {},
   "outputs": [],
   "source": [
    "# Ans 6 - agent name who have rating less than 3.5"
   ]
  },
  {
   "cell_type": "code",
   "execution_count": 202,
   "id": "72354d29",
   "metadata": {},
   "outputs": [
    {
     "data": {
      "text/html": [
       "<div>\n",
       "<style scoped>\n",
       "    .dataframe tbody tr th:only-of-type {\n",
       "        vertical-align: middle;\n",
       "    }\n",
       "\n",
       "    .dataframe tbody tr th {\n",
       "        vertical-align: top;\n",
       "    }\n",
       "\n",
       "    .dataframe thead th {\n",
       "        text-align: right;\n",
       "    }\n",
       "</style>\n",
       "<table border=\"1\" class=\"dataframe\">\n",
       "  <thead>\n",
       "    <tr style=\"text-align: right;\">\n",
       "      <th></th>\n",
       "      <th>Agent</th>\n",
       "      <th>Average_Rating</th>\n",
       "    </tr>\n",
       "  </thead>\n",
       "  <tbody>\n",
       "    <tr>\n",
       "      <th>0</th>\n",
       "      <td>Abhishek</td>\n",
       "      <td>0.000000</td>\n",
       "    </tr>\n",
       "    <tr>\n",
       "      <th>1</th>\n",
       "      <td>Aditya</td>\n",
       "      <td>0.000000</td>\n",
       "    </tr>\n",
       "    <tr>\n",
       "      <th>2</th>\n",
       "      <td>Aditya Shinde</td>\n",
       "      <td>1.800333</td>\n",
       "    </tr>\n",
       "    <tr>\n",
       "      <th>3</th>\n",
       "      <td>Aditya_iot</td>\n",
       "      <td>2.345333</td>\n",
       "    </tr>\n",
       "    <tr>\n",
       "      <th>4</th>\n",
       "      <td>Amersh</td>\n",
       "      <td>0.000000</td>\n",
       "    </tr>\n",
       "    <tr>\n",
       "      <th>...</th>\n",
       "      <td>...</td>\n",
       "      <td>...</td>\n",
       "    </tr>\n",
       "    <tr>\n",
       "      <th>65</th>\n",
       "      <td>Uday Mishra</td>\n",
       "      <td>0.000000</td>\n",
       "    </tr>\n",
       "    <tr>\n",
       "      <th>66</th>\n",
       "      <td>Vasanth P</td>\n",
       "      <td>0.000000</td>\n",
       "    </tr>\n",
       "    <tr>\n",
       "      <th>67</th>\n",
       "      <td>Vivek</td>\n",
       "      <td>0.500667</td>\n",
       "    </tr>\n",
       "    <tr>\n",
       "      <th>68</th>\n",
       "      <td>Wasim</td>\n",
       "      <td>2.400000</td>\n",
       "    </tr>\n",
       "    <tr>\n",
       "      <th>69</th>\n",
       "      <td>Zeeshan</td>\n",
       "      <td>2.287000</td>\n",
       "    </tr>\n",
       "  </tbody>\n",
       "</table>\n",
       "<p>65 rows × 2 columns</p>\n",
       "</div>"
      ],
      "text/plain": [
       "            Agent  Average_Rating\n",
       "0       Abhishek         0.000000\n",
       "1         Aditya         0.000000\n",
       "2   Aditya Shinde        1.800333\n",
       "3     Aditya_iot         2.345333\n",
       "4         Amersh         0.000000\n",
       "..            ...             ...\n",
       "65    Uday Mishra        0.000000\n",
       "66      Vasanth P        0.000000\n",
       "67         Vivek         0.500667\n",
       "68         Wasim         2.400000\n",
       "69       Zeeshan         2.287000\n",
       "\n",
       "[65 rows x 2 columns]"
      ]
     },
     "execution_count": 202,
     "metadata": {},
     "output_type": "execute_result"
    }
   ],
   "source": [
    "df3[(df3['Average_Rating'] < 3.5)]"
   ]
  },
  {
   "cell_type": "code",
   "execution_count": null,
   "id": "7bbae3ba",
   "metadata": {},
   "outputs": [],
   "source": []
  },
  {
   "cell_type": "code",
   "execution_count": null,
   "id": "f29dce1b",
   "metadata": {},
   "outputs": [],
   "source": [
    "# Ans 7 - agent name who have rating > 4.5"
   ]
  },
  {
   "cell_type": "code",
   "execution_count": 204,
   "id": "b5850d0b",
   "metadata": {},
   "outputs": [
    {
     "data": {
      "text/html": [
       "<div>\n",
       "<style scoped>\n",
       "    .dataframe tbody tr th:only-of-type {\n",
       "        vertical-align: middle;\n",
       "    }\n",
       "\n",
       "    .dataframe tbody tr th {\n",
       "        vertical-align: top;\n",
       "    }\n",
       "\n",
       "    .dataframe thead th {\n",
       "        text-align: right;\n",
       "    }\n",
       "</style>\n",
       "<table border=\"1\" class=\"dataframe\">\n",
       "  <thead>\n",
       "    <tr style=\"text-align: right;\">\n",
       "      <th></th>\n",
       "      <th>Agent</th>\n",
       "      <th>Average_Rating</th>\n",
       "    </tr>\n",
       "  </thead>\n",
       "  <tbody>\n",
       "    <tr>\n",
       "      <th>57</th>\n",
       "      <td>Shivananda Sonwane</td>\n",
       "      <td>4.232667</td>\n",
       "    </tr>\n",
       "  </tbody>\n",
       "</table>\n",
       "</div>"
      ],
      "text/plain": [
       "                 Agent  Average_Rating\n",
       "57  Shivananda Sonwane        4.232667"
      ]
     },
     "execution_count": 204,
     "metadata": {},
     "output_type": "execute_result"
    }
   ],
   "source": [
    "df3[(df3['Average_Rating'] > 4)]"
   ]
  },
  {
   "cell_type": "code",
   "execution_count": null,
   "id": "9751d3d0",
   "metadata": {},
   "outputs": [],
   "source": []
  },
  {
   "cell_type": "code",
   "execution_count": null,
   "id": "a6eadcbb",
   "metadata": {},
   "outputs": [],
   "source": [
    "# Ans 8 - how many feedback agent have recieved with average rating > 4.5 "
   ]
  },
  {
   "cell_type": "code",
   "execution_count": 253,
   "id": "7ddb3066",
   "metadata": {},
   "outputs": [
    {
     "name": "stderr",
     "output_type": "stream",
     "text": [
      "<ipython-input-253-95ccc2c90213>:1: FutureWarning: Indexing with multiple keys (implicitly converted to a tuple of keys) will be deprecated, use a list instead.\n",
      "  df5 = pd.DataFrame(df2.groupby('Agent_Name')['Total_Feedback', 'Average_Rating'].mean(), columns=['Agent', 'Total_Feedback', 'Average_Rating']).reset_index(drop=True)\n"
     ]
    }
   ],
   "source": [
    "df5 = pd.DataFrame(df2.groupby('Agent_Name')['Total_Feedback', 'Average_Rating'].mean(), columns=['Agent', 'Total_Feedback', 'Average_Rating']).reset_index(drop=True)"
   ]
  },
  {
   "cell_type": "code",
   "execution_count": 255,
   "id": "92473b66",
   "metadata": {},
   "outputs": [
    {
     "name": "stderr",
     "output_type": "stream",
     "text": [
      "<ipython-input-255-3aafe65b1245>:1: FutureWarning: Indexing with multiple keys (implicitly converted to a tuple of keys) will be deprecated, use a list instead.\n",
      "  df5['Agent'] = df2.groupby('Agent_Name')['Total_Feedback', 'Average_Rating'].mean().index\n"
     ]
    }
   ],
   "source": [
    "df5['Agent'] = df2.groupby('Agent_Name')['Total_Feedback', 'Average_Rating'].mean().index"
   ]
  },
  {
   "cell_type": "code",
   "execution_count": 256,
   "id": "7341d0c6",
   "metadata": {},
   "outputs": [
    {
     "data": {
      "text/html": [
       "<div>\n",
       "<style scoped>\n",
       "    .dataframe tbody tr th:only-of-type {\n",
       "        vertical-align: middle;\n",
       "    }\n",
       "\n",
       "    .dataframe tbody tr th {\n",
       "        vertical-align: top;\n",
       "    }\n",
       "\n",
       "    .dataframe thead th {\n",
       "        text-align: right;\n",
       "    }\n",
       "</style>\n",
       "<table border=\"1\" class=\"dataframe\">\n",
       "  <thead>\n",
       "    <tr style=\"text-align: right;\">\n",
       "      <th></th>\n",
       "      <th>Agent</th>\n",
       "      <th>Total_Feedback</th>\n",
       "      <th>Average_Rating</th>\n",
       "    </tr>\n",
       "  </thead>\n",
       "  <tbody>\n",
       "    <tr>\n",
       "      <th>0</th>\n",
       "      <td>Abhishek</td>\n",
       "      <td>0.000000</td>\n",
       "      <td>0.000000</td>\n",
       "    </tr>\n",
       "    <tr>\n",
       "      <th>1</th>\n",
       "      <td>Aditya</td>\n",
       "      <td>0.000000</td>\n",
       "      <td>0.000000</td>\n",
       "    </tr>\n",
       "    <tr>\n",
       "      <th>2</th>\n",
       "      <td>Aditya Shinde</td>\n",
       "      <td>5.100000</td>\n",
       "      <td>1.800333</td>\n",
       "    </tr>\n",
       "    <tr>\n",
       "      <th>3</th>\n",
       "      <td>Aditya_iot</td>\n",
       "      <td>4.366667</td>\n",
       "      <td>2.345333</td>\n",
       "    </tr>\n",
       "    <tr>\n",
       "      <th>4</th>\n",
       "      <td>Amersh</td>\n",
       "      <td>0.000000</td>\n",
       "      <td>0.000000</td>\n",
       "    </tr>\n",
       "    <tr>\n",
       "      <th>...</th>\n",
       "      <td>...</td>\n",
       "      <td>...</td>\n",
       "      <td>...</td>\n",
       "    </tr>\n",
       "    <tr>\n",
       "      <th>65</th>\n",
       "      <td>Uday Mishra</td>\n",
       "      <td>0.000000</td>\n",
       "      <td>0.000000</td>\n",
       "    </tr>\n",
       "    <tr>\n",
       "      <th>66</th>\n",
       "      <td>Vasanth P</td>\n",
       "      <td>0.000000</td>\n",
       "      <td>0.000000</td>\n",
       "    </tr>\n",
       "    <tr>\n",
       "      <th>67</th>\n",
       "      <td>Vivek</td>\n",
       "      <td>0.666667</td>\n",
       "      <td>0.500667</td>\n",
       "    </tr>\n",
       "    <tr>\n",
       "      <th>68</th>\n",
       "      <td>Wasim</td>\n",
       "      <td>9.466667</td>\n",
       "      <td>2.400000</td>\n",
       "    </tr>\n",
       "    <tr>\n",
       "      <th>69</th>\n",
       "      <td>Zeeshan</td>\n",
       "      <td>11.166667</td>\n",
       "      <td>2.287000</td>\n",
       "    </tr>\n",
       "  </tbody>\n",
       "</table>\n",
       "<p>70 rows × 3 columns</p>\n",
       "</div>"
      ],
      "text/plain": [
       "            Agent  Total_Feedback  Average_Rating\n",
       "0       Abhishek         0.000000        0.000000\n",
       "1         Aditya         0.000000        0.000000\n",
       "2   Aditya Shinde        5.100000        1.800333\n",
       "3     Aditya_iot         4.366667        2.345333\n",
       "4         Amersh         0.000000        0.000000\n",
       "..            ...             ...             ...\n",
       "65    Uday Mishra        0.000000        0.000000\n",
       "66      Vasanth P        0.000000        0.000000\n",
       "67         Vivek         0.666667        0.500667\n",
       "68         Wasim         9.466667        2.400000\n",
       "69       Zeeshan        11.166667        2.287000\n",
       "\n",
       "[70 rows x 3 columns]"
      ]
     },
     "execution_count": 256,
     "metadata": {},
     "output_type": "execute_result"
    }
   ],
   "source": [
    "df5"
   ]
  },
  {
   "cell_type": "code",
   "execution_count": 257,
   "id": "41461c02",
   "metadata": {},
   "outputs": [
    {
     "data": {
      "text/html": [
       "<div>\n",
       "<style scoped>\n",
       "    .dataframe tbody tr th:only-of-type {\n",
       "        vertical-align: middle;\n",
       "    }\n",
       "\n",
       "    .dataframe tbody tr th {\n",
       "        vertical-align: top;\n",
       "    }\n",
       "\n",
       "    .dataframe thead th {\n",
       "        text-align: right;\n",
       "    }\n",
       "</style>\n",
       "<table border=\"1\" class=\"dataframe\">\n",
       "  <thead>\n",
       "    <tr style=\"text-align: right;\">\n",
       "      <th></th>\n",
       "      <th>Agent</th>\n",
       "      <th>Total_Feedback</th>\n",
       "      <th>Average_Rating</th>\n",
       "    </tr>\n",
       "  </thead>\n",
       "  <tbody>\n",
       "  </tbody>\n",
       "</table>\n",
       "</div>"
      ],
      "text/plain": [
       "Empty DataFrame\n",
       "Columns: [Agent, Total_Feedback, Average_Rating]\n",
       "Index: []"
      ]
     },
     "execution_count": 257,
     "metadata": {},
     "output_type": "execute_result"
    }
   ],
   "source": [
    "df5[df5['Average_Rating'] > 4.5]"
   ]
  },
  {
   "cell_type": "code",
   "execution_count": 258,
   "id": "e553a18e",
   "metadata": {},
   "outputs": [
    {
     "data": {
      "text/plain": [
       "4.232666666666667"
      ]
     },
     "execution_count": 258,
     "metadata": {},
     "output_type": "execute_result"
    }
   ],
   "source": [
    "max(df5['Average_Rating'])"
   ]
  },
  {
   "cell_type": "code",
   "execution_count": null,
   "id": "63237d44",
   "metadata": {},
   "outputs": [],
   "source": []
  },
  {
   "cell_type": "code",
   "execution_count": null,
   "id": "c5148c4e",
   "metadata": {},
   "outputs": [],
   "source": []
  },
  {
   "cell_type": "code",
   "execution_count": 205,
   "id": "f0bec1bd",
   "metadata": {},
   "outputs": [],
   "source": [
    "# Ans 9 - average weekly response time for each agent"
   ]
  },
  {
   "cell_type": "code",
   "execution_count": 209,
   "id": "57b0307a",
   "metadata": {},
   "outputs": [],
   "source": [
    "df2['Average_Response_Time_'] = pd.to_timedelta(df2['Average_Response_Time'])"
   ]
  },
  {
   "cell_type": "code",
   "execution_count": 218,
   "id": "fdfce07d",
   "metadata": {},
   "outputs": [
    {
     "data": {
      "text/plain": [
       "Agent_Name\n",
       "Abhishek        0 days 00:00:00\n",
       "Aditya          0 days 00:00:00\n",
       "Aditya Shinde   0 days 00:14:52\n",
       "Aditya_iot      0 days 00:16:59\n",
       "Amersh          0 days 00:00:00\n",
       "                      ...      \n",
       "Uday Mishra     0 days 00:00:00\n",
       "Vasanth P       0 days 00:00:00\n",
       "Vivek           0 days 00:06:51\n",
       "Wasim           0 days 00:14:51\n",
       "Zeeshan         0 days 00:30:52\n",
       "Name: Average_Response_Time_, Length: 70, dtype: timedelta64[ns]"
      ]
     },
     "execution_count": 218,
     "metadata": {},
     "output_type": "execute_result"
    }
   ],
   "source": [
    "df2.groupby(['Agent_Name'])['Average_Response_Time_'].sum()"
   ]
  },
  {
   "cell_type": "code",
   "execution_count": null,
   "id": "b7322097",
   "metadata": {},
   "outputs": [],
   "source": []
  },
  {
   "cell_type": "code",
   "execution_count": null,
   "id": "eb1b3812",
   "metadata": {},
   "outputs": [],
   "source": [
    "# Ans 10 - percentage of chat on which they have received a feedback"
   ]
  },
  {
   "cell_type": "code",
   "execution_count": 227,
   "id": "d4da9250",
   "metadata": {},
   "outputs": [
    {
     "data": {
      "text/plain": [
       "Index(['Agent_Name', 'Total_Chats', 'Average_Response_Time',\n",
       "       'Average_Resolution_Time', 'Average_Rating', 'Total_Feedback', 'Date_',\n",
       "       'Week', 'Month', 'Year', 'Day', 'Average_Response_Time_'],\n",
       "      dtype='object')"
      ]
     },
     "execution_count": 227,
     "metadata": {},
     "output_type": "execute_result"
    }
   ],
   "source": [
    "df2.columns"
   ]
  },
  {
   "cell_type": "code",
   "execution_count": 237,
   "id": "09fcb119",
   "metadata": {},
   "outputs": [
    {
     "name": "stderr",
     "output_type": "stream",
     "text": [
      "<ipython-input-237-49b6eb9b8cfc>:1: FutureWarning: Indexing with multiple keys (implicitly converted to a tuple of keys) will be deprecated, use a list instead.\n",
      "  df4 = pd.DataFrame(df2.groupby('Agent_Name')['Total_Chats','Total_Feedback'].mean().reset_index(drop=True), columns=['Agent_', 'Total_Chats', 'Total_Feedback'])\n"
     ]
    }
   ],
   "source": [
    "df4 = pd.DataFrame(df2.groupby('Agent_Name')['Total_Chats','Total_Feedback'].mean().reset_index(drop=True), columns=['Agent_', 'Total_Chats', 'Total_Feedback'])"
   ]
  },
  {
   "cell_type": "code",
   "execution_count": 238,
   "id": "3bd01ed9",
   "metadata": {},
   "outputs": [
    {
     "name": "stderr",
     "output_type": "stream",
     "text": [
      "<ipython-input-238-c765fc9f0a33>:1: FutureWarning: Indexing with multiple keys (implicitly converted to a tuple of keys) will be deprecated, use a list instead.\n",
      "  df4['Agent_'] = df2.groupby('Agent_Name')['Total_Chats','Total_Feedback'].mean().index\n"
     ]
    }
   ],
   "source": [
    "df4['Agent_'] = df2.groupby('Agent_Name')['Total_Chats','Total_Feedback'].mean().index"
   ]
  },
  {
   "cell_type": "code",
   "execution_count": 239,
   "id": "15b89bb8",
   "metadata": {},
   "outputs": [
    {
     "data": {
      "text/html": [
       "<div>\n",
       "<style scoped>\n",
       "    .dataframe tbody tr th:only-of-type {\n",
       "        vertical-align: middle;\n",
       "    }\n",
       "\n",
       "    .dataframe tbody tr th {\n",
       "        vertical-align: top;\n",
       "    }\n",
       "\n",
       "    .dataframe thead th {\n",
       "        text-align: right;\n",
       "    }\n",
       "</style>\n",
       "<table border=\"1\" class=\"dataframe\">\n",
       "  <thead>\n",
       "    <tr style=\"text-align: right;\">\n",
       "      <th></th>\n",
       "      <th>Agent_</th>\n",
       "      <th>Total_Chats</th>\n",
       "      <th>Total_Feedback</th>\n",
       "    </tr>\n",
       "  </thead>\n",
       "  <tbody>\n",
       "    <tr>\n",
       "      <th>0</th>\n",
       "      <td>Abhishek</td>\n",
       "      <td>0.000000</td>\n",
       "      <td>0.000000</td>\n",
       "    </tr>\n",
       "    <tr>\n",
       "      <th>1</th>\n",
       "      <td>Aditya</td>\n",
       "      <td>0.000000</td>\n",
       "      <td>0.000000</td>\n",
       "    </tr>\n",
       "    <tr>\n",
       "      <th>2</th>\n",
       "      <td>Aditya Shinde</td>\n",
       "      <td>9.233333</td>\n",
       "      <td>5.100000</td>\n",
       "    </tr>\n",
       "    <tr>\n",
       "      <th>3</th>\n",
       "      <td>Aditya_iot</td>\n",
       "      <td>7.700000</td>\n",
       "      <td>4.366667</td>\n",
       "    </tr>\n",
       "    <tr>\n",
       "      <th>4</th>\n",
       "      <td>Amersh</td>\n",
       "      <td>0.000000</td>\n",
       "      <td>0.000000</td>\n",
       "    </tr>\n",
       "    <tr>\n",
       "      <th>...</th>\n",
       "      <td>...</td>\n",
       "      <td>...</td>\n",
       "      <td>...</td>\n",
       "    </tr>\n",
       "    <tr>\n",
       "      <th>65</th>\n",
       "      <td>Uday Mishra</td>\n",
       "      <td>0.000000</td>\n",
       "      <td>0.000000</td>\n",
       "    </tr>\n",
       "    <tr>\n",
       "      <th>66</th>\n",
       "      <td>Vasanth P</td>\n",
       "      <td>0.000000</td>\n",
       "      <td>0.000000</td>\n",
       "    </tr>\n",
       "    <tr>\n",
       "      <th>67</th>\n",
       "      <td>Vivek</td>\n",
       "      <td>1.466667</td>\n",
       "      <td>0.666667</td>\n",
       "    </tr>\n",
       "    <tr>\n",
       "      <th>68</th>\n",
       "      <td>Wasim</td>\n",
       "      <td>14.433333</td>\n",
       "      <td>9.466667</td>\n",
       "    </tr>\n",
       "    <tr>\n",
       "      <th>69</th>\n",
       "      <td>Zeeshan</td>\n",
       "      <td>18.066667</td>\n",
       "      <td>11.166667</td>\n",
       "    </tr>\n",
       "  </tbody>\n",
       "</table>\n",
       "<p>70 rows × 3 columns</p>\n",
       "</div>"
      ],
      "text/plain": [
       "           Agent_  Total_Chats  Total_Feedback\n",
       "0       Abhishek      0.000000        0.000000\n",
       "1         Aditya      0.000000        0.000000\n",
       "2   Aditya Shinde     9.233333        5.100000\n",
       "3     Aditya_iot      7.700000        4.366667\n",
       "4         Amersh      0.000000        0.000000\n",
       "..            ...          ...             ...\n",
       "65    Uday Mishra     0.000000        0.000000\n",
       "66      Vasanth P     0.000000        0.000000\n",
       "67         Vivek      1.466667        0.666667\n",
       "68         Wasim     14.433333        9.466667\n",
       "69       Zeeshan     18.066667       11.166667\n",
       "\n",
       "[70 rows x 3 columns]"
      ]
     },
     "execution_count": 239,
     "metadata": {},
     "output_type": "execute_result"
    }
   ],
   "source": [
    "df4"
   ]
  },
  {
   "cell_type": "code",
   "execution_count": 242,
   "id": "f2e32fa0",
   "metadata": {},
   "outputs": [],
   "source": [
    "df4['Percentage_feed'] = (df4['Total_Feedback']*100)/df4['Total_Chats']"
   ]
  },
  {
   "cell_type": "code",
   "execution_count": 249,
   "id": "f2dd2d93",
   "metadata": {},
   "outputs": [
    {
     "data": {
      "text/html": [
       "<div>\n",
       "<style scoped>\n",
       "    .dataframe tbody tr th:only-of-type {\n",
       "        vertical-align: middle;\n",
       "    }\n",
       "\n",
       "    .dataframe tbody tr th {\n",
       "        vertical-align: top;\n",
       "    }\n",
       "\n",
       "    .dataframe thead th {\n",
       "        text-align: right;\n",
       "    }\n",
       "</style>\n",
       "<table border=\"1\" class=\"dataframe\">\n",
       "  <thead>\n",
       "    <tr style=\"text-align: right;\">\n",
       "      <th></th>\n",
       "      <th>Agent_</th>\n",
       "      <th>Total_Chats</th>\n",
       "      <th>Total_Feedback</th>\n",
       "      <th>Percentage_feed</th>\n",
       "    </tr>\n",
       "  </thead>\n",
       "  <tbody>\n",
       "    <tr>\n",
       "      <th>0</th>\n",
       "      <td>Abhishek</td>\n",
       "      <td>0.000000</td>\n",
       "      <td>0.000000</td>\n",
       "      <td>NaN</td>\n",
       "    </tr>\n",
       "    <tr>\n",
       "      <th>1</th>\n",
       "      <td>Aditya</td>\n",
       "      <td>0.000000</td>\n",
       "      <td>0.000000</td>\n",
       "      <td>NaN</td>\n",
       "    </tr>\n",
       "    <tr>\n",
       "      <th>2</th>\n",
       "      <td>Aditya Shinde</td>\n",
       "      <td>9.233333</td>\n",
       "      <td>5.100000</td>\n",
       "      <td>55.234657</td>\n",
       "    </tr>\n",
       "    <tr>\n",
       "      <th>3</th>\n",
       "      <td>Aditya_iot</td>\n",
       "      <td>7.700000</td>\n",
       "      <td>4.366667</td>\n",
       "      <td>56.709957</td>\n",
       "    </tr>\n",
       "    <tr>\n",
       "      <th>4</th>\n",
       "      <td>Amersh</td>\n",
       "      <td>0.000000</td>\n",
       "      <td>0.000000</td>\n",
       "      <td>NaN</td>\n",
       "    </tr>\n",
       "    <tr>\n",
       "      <th>...</th>\n",
       "      <td>...</td>\n",
       "      <td>...</td>\n",
       "      <td>...</td>\n",
       "      <td>...</td>\n",
       "    </tr>\n",
       "    <tr>\n",
       "      <th>65</th>\n",
       "      <td>Uday Mishra</td>\n",
       "      <td>0.000000</td>\n",
       "      <td>0.000000</td>\n",
       "      <td>NaN</td>\n",
       "    </tr>\n",
       "    <tr>\n",
       "      <th>66</th>\n",
       "      <td>Vasanth P</td>\n",
       "      <td>0.000000</td>\n",
       "      <td>0.000000</td>\n",
       "      <td>NaN</td>\n",
       "    </tr>\n",
       "    <tr>\n",
       "      <th>67</th>\n",
       "      <td>Vivek</td>\n",
       "      <td>1.466667</td>\n",
       "      <td>0.666667</td>\n",
       "      <td>45.454545</td>\n",
       "    </tr>\n",
       "    <tr>\n",
       "      <th>68</th>\n",
       "      <td>Wasim</td>\n",
       "      <td>14.433333</td>\n",
       "      <td>9.466667</td>\n",
       "      <td>65.588915</td>\n",
       "    </tr>\n",
       "    <tr>\n",
       "      <th>69</th>\n",
       "      <td>Zeeshan</td>\n",
       "      <td>18.066667</td>\n",
       "      <td>11.166667</td>\n",
       "      <td>61.808118</td>\n",
       "    </tr>\n",
       "  </tbody>\n",
       "</table>\n",
       "<p>70 rows × 4 columns</p>\n",
       "</div>"
      ],
      "text/plain": [
       "           Agent_  Total_Chats  Total_Feedback  Percentage_feed\n",
       "0       Abhishek      0.000000        0.000000              NaN\n",
       "1         Aditya      0.000000        0.000000              NaN\n",
       "2   Aditya Shinde     9.233333        5.100000        55.234657\n",
       "3     Aditya_iot      7.700000        4.366667        56.709957\n",
       "4         Amersh      0.000000        0.000000              NaN\n",
       "..            ...          ...             ...              ...\n",
       "65    Uday Mishra     0.000000        0.000000              NaN\n",
       "66      Vasanth P     0.000000        0.000000              NaN\n",
       "67         Vivek      1.466667        0.666667        45.454545\n",
       "68         Wasim     14.433333        9.466667        65.588915\n",
       "69       Zeeshan     18.066667       11.166667        61.808118\n",
       "\n",
       "[70 rows x 4 columns]"
      ]
     },
     "execution_count": 249,
     "metadata": {},
     "output_type": "execute_result"
    }
   ],
   "source": [
    "df4"
   ]
  },
  {
   "cell_type": "code",
   "execution_count": null,
   "id": "4a5eb9bb",
   "metadata": {},
   "outputs": [],
   "source": []
  },
  {
   "cell_type": "code",
   "execution_count": 219,
   "id": "1512dae0",
   "metadata": {},
   "outputs": [],
   "source": [
    "# Ans 11 - list of all agents name "
   ]
  },
  {
   "cell_type": "code",
   "execution_count": 225,
   "id": "55daeef8",
   "metadata": {},
   "outputs": [
    {
     "data": {
      "text/plain": [
       "array(['Prerna Singh', 'Nandani Gupta', 'Ameya Jain', 'Mahesh Sarade',\n",
       "       'Swati ', 'Mukesh ', 'Saikumarreddy N', 'Sanjeev Kumar',\n",
       "       'Shubham Sharma', 'Nishtha Jain', 'Manjunatha A', 'Khushboo Priya',\n",
       "       'Suraj S Bilgi', 'Harikrishnan Shaji', 'Hrisikesh Neogi',\n",
       "       'Shivan K', 'Sowmiya Sivakumar', 'Madhulika G', 'Mithun S',\n",
       "       'Hitesh Choudhary', 'Sanjeevan ', 'Anirudh ', 'Shiva Srivastava',\n",
       "       'Dibyanshu ', 'Ashish ', 'Uday Mishra', 'Aditya Shinde',\n",
       "       'Jayant Kumar', 'Aditya_iot ', 'Prabir Kumar Satapathy',\n",
       "       'Saurabh Shukla', 'Wasim ', 'Samprit ', 'Maitry ', 'Abhishek ',\n",
       "       'Rishav Dash', 'Aravind ', 'Tarun ', 'Muskan Garg', 'Ankit Sharma',\n",
       "       'Bharath ', 'Ashad Nasim', 'Vasanth P', 'Aditya ', 'Amersh ',\n",
       "       'Sandipan Saha', 'Ineuron Intelligence ', 'Mahak ', 'Mukesh Rao ',\n",
       "       'Zeeshan ', 'Anurag Tiwari', 'Ankitjha ', 'Saif Khan',\n",
       "       'Jaydeep Dixit', 'Sudhanshu Kumar', 'Maneesh ', 'Hyder Abbas',\n",
       "       'Rohan ', 'Vivek ', 'Nitin M', 'Shivan_S ', 'Spuri ',\n",
       "       'Ayushi Mishra', 'Chaitra K Hiremath', 'Prateek _iot ',\n",
       "       'Boktiar Ahmed Bappy', 'Shivananda Sonwane', 'Ishawant Kumar',\n",
       "       'Deepranjan Gupta', 'Jawala Prakash'], dtype=object)"
      ]
     },
     "execution_count": 225,
     "metadata": {},
     "output_type": "execute_result"
    }
   ],
   "source": [
    "df2.Agent_Name.unique()"
   ]
  },
  {
   "cell_type": "code",
   "execution_count": null,
   "id": "869ff6e5",
   "metadata": {},
   "outputs": [],
   "source": []
  }
 ],
 "metadata": {
  "kernelspec": {
   "display_name": "Python 3",
   "language": "python",
   "name": "python3"
  },
  "language_info": {
   "codemirror_mode": {
    "name": "ipython",
    "version": 3
   },
   "file_extension": ".py",
   "mimetype": "text/x-python",
   "name": "python",
   "nbconvert_exporter": "python",
   "pygments_lexer": "ipython3",
   "version": "3.8.8"
  }
 },
 "nbformat": 4,
 "nbformat_minor": 5
}
